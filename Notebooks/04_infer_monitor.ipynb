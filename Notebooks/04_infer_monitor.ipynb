{
  "cells": [
    {
      "cell_type": "markdown",
      "metadata": {},
      "source": [
        "# SP500 Stock Demo — Notebook 04: Inference + Drift Monitoring\n",
        "\n",
        "- Load latest registered model\n",
        "- Generate batch predictions on recent data\n",
        "- Persist predictions table\n",
        "- Compute simple drift (PSI) on key features using Snowpark\n",
        "- Optional: emit alert when PSI exceeds threshold\n"
      ]
    },
    {
      "cell_type": "code",
      "execution_count": null,
      "metadata": {},
      "outputs": [],
      "source": [
        "# 0) Imports and session/context\n",
        "from snowflake.snowpark.context import get_active_session\n",
        "from snowflake.snowpark.functions import col, avg\n",
        "from snowflake.ml.registry import Registry\n",
        "\n",
        "session = get_active_session()\n",
        "session.sql(\"USE WAREHOUSE DEMO_WH_M\").collect()\n",
        "session.sql(\"USE DATABASE SP500_STOCK_DEMO\").collect()\n",
        "session.sql(\"USE SCHEMA DATA\").collect()\n",
        "\n",
        "# Confirm enriched feature table exists\n",
        "session.table('PRICE_FEATURES').limit(5).show()\n"
      ]
    },
    {
      "cell_type": "code",
      "execution_count": null,
      "metadata": {},
      "outputs": [],
      "source": [
        "# 1) Load latest model from Model Registry\n",
        "reg = Registry(session=session, database_name='SP500_STOCK_DEMO', schema_name='DATA')\n",
        "model = reg.get_model('XGB_SP500_RET3M').last()  # latest version\n",
        "print(model.version)\n"
      ]
    },
    {
      "cell_type": "code",
      "execution_count": null,
      "metadata": {},
      "outputs": [],
      "source": [
        "# 2) Prepare recent feature slice (last 5 days)\n",
        "cutoff = session.sql(\"select dateadd('day', -5, max(TS)) as c from PRICE_FEATURES\").collect()[0]['C']\n",
        "recent = session.table('PRICE_FEATURES').filter(col('TS') >= cutoff)\n",
        "recent.count()\n"
      ]
    },
    {
      "cell_type": "code",
      "execution_count": null,
      "metadata": {},
      "outputs": [],
      "source": [
        "# 3) Run batch predictions and persist\n",
        "preds = model.run(recent, function_name='PREDICT')\n",
        "# Persist\n",
        "preds.write.save_as_table('PREDICTIONS_SP500_RET3M', mode='overwrite')\n",
        "\n",
        "# Quick peek\n",
        "session.table('PREDICTIONS_SP500_RET3M').limit(5).show()\n"
      ]
    },
    {
      "cell_type": "code",
      "execution_count": null,
      "metadata": {},
      "outputs": [],
      "source": [
        "# 4) Simple drift metric (PSI) on select features\n",
        "from snowflake.snowpark.functions import lit\n",
        "\n",
        "# Define reference (older window) vs current (recent)\n",
        "ref_cutoff = session.sql(\"select dateadd('day', -35, max(TS)) as c from PRICE_FEATURES\").collect()[0]['C']\n",
        "reference = session.table('PRICE_FEATURES').filter((col('TS') >= ref_cutoff) & (col('TS') < cutoff))\n",
        "recent_slice = recent  # avoid reserved word \"current\"\n",
        "\n",
        "# Register temp views so the SQL string can reference them\n",
        "reference.create_or_replace_temp_view('REF_WINDOW')\n",
        "recent_slice.create_or_replace_temp_view('CURR_WINDOW')\n",
        "\n",
        "# Feature list for drift check\n",
        "feat_cols = ['RET_1','SMA_5','SMA_20','VOL_20']\n",
        "\n",
        "# Compute basic PSI using equal-width bins in Snowflake SQL\n",
        "num_bins = 10\n",
        "psi_results = []\n",
        "for f in feat_cols:\n",
        "    stats = session.sql(f\"\"\"\n",
        "        WITH bounds AS (\n",
        "          SELECT MIN({f}) AS mn, MAX({f}) AS mx FROM PRICE_FEATURES\n",
        "        ), bins AS (\n",
        "          SELECT mn + (mx-mn)*seq4()/{num_bins} AS edge\n",
        "          FROM bounds, TABLE(GENERATOR(ROWCOUNT => {num_bins}+1))\n",
        "        ),\n",
        "        ref AS (\n",
        "          SELECT WIDTH_BUCKET({f}, (SELECT MIN(edge) FROM bins), (SELECT MAX(edge) FROM bins), {num_bins}) AS b\n",
        "          FROM REF_WINDOW\n",
        "        ), cur AS (\n",
        "          SELECT WIDTH_BUCKET({f}, (SELECT MIN(edge) FROM bins), (SELECT MAX(edge) FROM bins), {num_bins}) AS b\n",
        "          FROM CURR_WINDOW\n",
        "        ),\n",
        "        refc AS (\n",
        "          SELECT b, COUNT(*) AS cnt FROM ref GROUP BY b\n",
        "        ), curc AS (\n",
        "          SELECT b, COUNT(*) AS cnt FROM cur GROUP BY b\n",
        "        )\n",
        "        SELECT COALESCE(curc.b, refc.b) AS bin,\n",
        "               COALESCE(refc.cnt,0) AS ref_cnt,\n",
        "               COALESCE(curc.cnt,0) AS cur_cnt\n",
        "        FROM refc FULL OUTER JOIN curc ON refc.b = curc.b\n",
        "    \"\"\")\n",
        "    df = stats.to_pandas()\n",
        "    if df.empty:\n",
        "        psi_results.append((f, None))\n",
        "        continue\n",
        "    ref_total = df['REF_CNT'].sum() or 1\n",
        "    cur_total = df['CUR_CNT'].sum() or 1\n",
        "    ref_pct = (df['REF_CNT'] / ref_total).replace(0, 1e-6)\n",
        "    cur_pct = (df['CUR_CNT'] / cur_total).replace(0, 1e-6)\n",
        "    psi = ((cur_pct - ref_pct) * (cur_pct / ref_pct).apply(lambda x: 0 if x<=0 else __import__('math').log(x))).sum()\n",
        "    psi_results.append((f, float(psi)))\n",
        "\n",
        "print(dict(psi_results))\n"
      ]
    },
    {
      "cell_type": "markdown",
      "metadata": {},
      "source": [
        "### Snowflake Model Monitor (native) setup\n",
        "\n",
        "This section creates a small baseline slice and a Model Monitor tied to the latest predictions table. It uses native Snowflake Monitoring so you can view metrics in Snowsight under AI & ML > Models.\n"
      ]
    },
    {
      "cell_type": "code",
      "execution_count": null,
      "metadata": {
        "vscode": {
          "languageId": "sql"
        }
      },
      "outputs": [],
      "source": [
        "-- Baseline + Monitor creation (safe re-run)\n",
        "USE WAREHOUSE DEMO_WH_M;\n",
        "USE DATABASE SP500_STOCK_DEMO;\n",
        "USE SCHEMA DATA;\n",
        "\n",
        "-- Baseline: earliest 14 days of predictions\n",
        "CREATE OR REPLACE TABLE BASELINE_PREDICTIONS AS\n",
        "WITH b AS (SELECT MIN(TS) AS mn FROM PREDICTIONS_SP500_RET3M)\n",
        "SELECT p.*\n",
        "FROM PREDICTIONS_SP500_RET3M p, b\n",
        "WHERE p.TS >= b.mn AND p.TS < DATEADD('day', 14, b.mn);\n",
        "\n",
        "-- Model Monitor (regression-like scores)\n",
        "CREATE OR REPLACE MODEL MONITOR SP500_RET3M_MONITOR\n",
        "WITH \n",
        "  MODEL = SP500_STOCK_DEMO.DATA.XGB_SP500_RET3M,\n",
        "  VERSION = 'V_1',\n",
        "  FUNCTION = 'PREDICT',\n",
        "  SOURCE = SP500_STOCK_DEMO.DATA.PREDICTIONS_SP500_RET3M,\n",
        "  BASELINE = SP500_STOCK_DEMO.DATA.BASELINE_PREDICTIONS,\n",
        "  WAREHOUSE = DEMO_WH_M,\n",
        "  REFRESH_INTERVAL = '1 DAY',\n",
        "  AGGREGATION_WINDOW = '7 DAYS',\n",
        "  TIMESTAMP_COLUMN = TS,\n",
        "  ID_COLUMNS = ('TICKER'),\n",
        "  PREDICTION_SCORE_COLUMNS = ('PREDICTED_RETURN');\n",
        "\n",
        "-- Verify\n",
        "SHOW MODEL MONITORS LIKE 'SP500_RET3M_MONITOR';\n"
      ]
    },
    {
      "cell_type": "markdown",
      "metadata": {},
      "source": [
        "### Drift alert (skeleton)\n",
        "\n",
        "Creates a Snowflake alert that checks PSI drift on `PREDICTED_RETURN` comparing the last 7 days to the baseline. The alert is created and immediately suspended (paused). You can later switch this to use native monitor metric functions when available.\n"
      ]
    },
    {
      "cell_type": "code",
      "execution_count": null,
      "metadata": {
        "vscode": {
          "languageId": "sql"
        }
      },
      "outputs": [],
      "source": [
        "-- Create a paused alert for PSI drift on PREDICTED_RETURN\n",
        "USE WAREHOUSE DEMO_WH_M;\n",
        "USE DATABASE SP500_STOCK_DEMO;\n",
        "USE SCHEMA DATA;\n",
        "\n",
        "-- Helper view: compute PSI between BASELINE_PREDICTIONS and last 7 days of PREDICTIONS_SP500_RET3M\n",
        "CREATE OR REPLACE VIEW PSI_PREDICTED_RETURN_7D AS\n",
        "WITH bounds AS (\n",
        "  SELECT MIN(PREDICTED_RETURN) AS mn, MAX(PREDICTED_RETURN) AS mx FROM (\n",
        "    SELECT PREDICTED_RETURN FROM BASELINE_PREDICTIONS\n",
        "    UNION ALL\n",
        "    SELECT PREDICTED_RETURN FROM PREDICTIONS_SP500_RET3M\n",
        "  )\n",
        "), bins AS (\n",
        "  SELECT mn + (mx-mn)*seq4()/10 AS edge FROM bounds, TABLE(GENERATOR(ROWCOUNT => 11))\n",
        "), ref AS (\n",
        "  SELECT WIDTH_BUCKET(PREDICTED_RETURN, (SELECT MIN(edge) FROM bins), (SELECT MAX(edge) FROM bins), 10) AS b,\n",
        "         COUNT(*) AS cnt\n",
        "  FROM BASELINE_PREDICTIONS\n",
        "  GROUP BY 1\n",
        "), cur AS (\n",
        "  SELECT WIDTH_BUCKET(PREDICTED_RETURN, (SELECT MIN(edge) FROM bins), (SELECT MAX(edge) FROM bins), 10) AS b,\n",
        "         COUNT(*) AS cnt\n",
        "  FROM PREDICTIONS_SP500_RET3M\n",
        "  WHERE TS >= DATEADD('day', -7, CURRENT_DATE())\n",
        "  GROUP BY 1\n",
        "), joined AS (\n",
        "  SELECT COALESCE(cur.b, ref.b) AS bin,\n",
        "         COALESCE(ref.cnt,0) AS ref_cnt,\n",
        "         COALESCE(cur.cnt,0) AS cur_cnt\n",
        "  FROM ref FULL OUTER JOIN cur ON ref.b = cur.b\n",
        ")\n",
        "SELECT SUM(\n",
        "  (NULLIF(cur_cnt,0)/NULLIFZERO(SUM(cur_cnt) OVER ()) - NULLIF(ref_cnt,0)/NULLIFZERO(SUM(ref_cnt) OVER ())) *\n",
        "  LN( NULLIF(cur_cnt,0)/NULLIFZERO(SUM(cur_cnt) OVER ()) / NULLIF(ref_cnt,0)*NULLIFZERO(1.0/SUM(ref_cnt) OVER ()) )\n",
        ") AS PSI\n",
        "FROM joined;\n",
        "\n",
        "-- Note: handle potential divide-by-zero by falling back to 1e-6 with NULLIFZERO pattern\n",
        "\n",
        "CREATE OR REPLACE ALERT IF NOT EXISTS PSI_DRIFT_ALERT\n",
        "  WAREHOUSE = DEMO_WH_M\n",
        "  SCHEDULE = 'USING CRON 0 13 * * * UTC'  -- daily at 13:00 UTC\n",
        "  IF (\n",
        "    SELECT 1\n",
        "    FROM PSI_PREDICTED_RETURN_7D\n",
        "    WHERE PSI > 0.2  -- threshold; tweak as desired\n",
        "  )\n",
        "  THEN CALL SYSTEM$SEND_EMAIL(\n",
        "    'ML_ALERTS',\n",
        "    'harley.chen@snowflake.com',\n",
        "    'PSI drift detected for PREDICTED_RETURN',\n",
        "    'PSI over the last 7 days exceeded 0.2. Review SP500_RET3M_MONITOR in Snowsight.'\n",
        "  );\n",
        "\n",
        "-- Pause the alert by default; resume when ready\n",
        "ALTER ALERT PSI_DRIFT_ALERT SUSPEND;\n"
      ]
    }
  ],
  "metadata": {
    "language_info": {
      "name": "python"
    }
  },
  "nbformat": 4,
  "nbformat_minor": 2
}
