{
  "cells": [
    {
      "cell_type": "markdown",
      "metadata": {},
      "source": [
        "# SP500 Stock Demo — Notebook 06: Streamlit App (Snowflake)\n",
        "\n",
        "- Minimal app: select ticker and model version\n",
        "- Plot actual vs predicted returns\n",
        "- Show latest PSI per feature\n"
      ]
    },
    {
      "cell_type": "code",
      "execution_count": null,
      "metadata": {},
      "outputs": [],
      "source": [
        "# 0) Streamlit app code\n",
        "import streamlit as st\n",
        "import pandas as pd\n",
        "from snowflake.snowpark.context import get_active_session\n",
        "\n",
        "session = get_active_session()\n",
        "session.sql(\"USE DATABASE SP500_STOCK_DEMO\").collect()\n",
        "session.sql(\"USE SCHEMA DATA\").collect()\n",
        "\n",
        "st.title('SP500 Forecast Demo')\n",
        "\n",
        "# Model versions\n",
        "models = session.sql(\"select name, versions from data.snowflake_ml_models where name = 'XGB_SP500_RET3M'\").to_pandas()\n",
        "versions = []\n",
        "if not models.empty:\n",
        "    import ast\n",
        "    versions = ast.literal_eval(models.iloc[0]['VERSIONS'])\n",
        "version = st.selectbox('Model version', options=versions if versions else ['V_1'])\n",
        "\n",
        "# Ticker\n",
        "symbols = session.table('SP500_TICKERS').select('TICKER').to_pandas()['TICKER'].tolist()\n",
        "symbol = st.selectbox('Ticker', options=symbols[:200])\n",
        "\n",
        "# Data fetch\n",
        "preds = session.table('PREDICTIONS_SP500_RET3M').filter(f\"TICKER = '{symbol}'\").to_pandas()\n",
        "features = session.table('PRICE_FEATURES').filter(f\"TICKER = '{symbol}'\").to_pandas()\n",
        "\n",
        "df = preds.merge(features[['TICKER','TS','CLOSE']], on=['TICKER','TS'], how='left')\n",
        "st.line_chart(df.set_index('TS')[['PREDICTED_RETURN']])\n",
        "\n",
        "psi = session.table('DRIFT_PSI_SP500').to_pandas()\n",
        "st.dataframe(psi)\n"
      ]
    }
  ],
  "metadata": {
    "language_info": {
      "name": "python"
    }
  },
  "nbformat": 4,
  "nbformat_minor": 2
}
