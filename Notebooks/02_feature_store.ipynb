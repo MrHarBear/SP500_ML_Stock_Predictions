{
  "cells": [
    {
      "cell_type": "markdown",
      "metadata": {},
      "source": [
        "# SP500 Stock Demo — Notebook 02: Feature Store\n",
        "\n",
        "- Compute core technical features on simulated hourly data\n",
        "- Register Feature Store `Entity(TICKER)` and `FeatureView(price_features)`\n",
        "- Save to `SP500_STOCK_DEMO.DATA`\n"
      ]
    },
    {
      "cell_type": "code",
      "execution_count": null,
      "metadata": {},
      "outputs": [],
      "source": [
        "# 0) Imports and session\n",
        "from snowflake.snowpark.context import get_active_session\n",
        "from snowflake.snowpark.functions import col, avg, stddev, sqrt, lag, when\n",
        "from snowflake.snowpark import Window\n",
        "from snowflake.ml.feature_store import FeatureStore, FeatureView, Entity, CreationMode\n",
        "\n",
        "session = get_active_session()\n",
        "session.sql(\"USE DATABASE SP500_STOCK_DEMO\").collect()\n",
        "session.sql(\"USE SCHEMA DATA\").collect()\n",
        "session.sql(\"USE WAREHOUSE DEMO_WH\").collect()\n",
        "\n",
        "session.table('HOURLY_SP500_SIM').limit(5).show()\n"
      ]
    },
    {
      "cell_type": "code",
      "execution_count": null,
      "metadata": {},
      "outputs": [],
      "source": [
        "# 1) Feature engineering with Snowpark\n",
        "win_5 = Window.partition_by('SYMBOL').order_by(col('TS')).rows_between(-4, 0)\n",
        "win_20 = Window.partition_by('SYMBOL').order_by(col('TS')).rows_between(-19, 0)\n",
        "\n",
        "hourly = session.table('HOURLY_SP500_SIM')\n",
        "\n",
        "features = (\n",
        "    hourly\n",
        "    .with_column('RET_1', (col('CLOSE')/lag(col('CLOSE'), 1).over(win_5) - 1))\n",
        "    .with_column('SMA_5', avg(col('CLOSE')).over(win_5))\n",
        "    .with_column('SMA_20', avg(col('CLOSE')).over(win_20))\n",
        "    .with_column('VOL_20', stddev(col('CLOSE')).over(win_20))\n",
        "    .with_column('RSI_PROXY', when(col('RET_1')>0, col('RET_1')).otherwise(0))\n",
        "    .select('SYMBOL','TS','CLOSE','VOLUME','RET_1','SMA_5','SMA_20','VOL_20','RSI_PROXY')\n",
        ")\n",
        "\n",
        "features.write.save_as_table('PRICE_FEATURES', mode='overwrite')\n",
        "features.limit(5).show()\n"
      ]
    },
    {
      "cell_type": "code",
      "execution_count": null,
      "metadata": {},
      "outputs": [],
      "source": [
        "# 2) Register Feature Store objects\n",
        "fs = FeatureStore(\n",
        "    session=session,\n",
        "    database='SP500_STOCK_DEMO',\n",
        "    name='DATA',\n",
        "    default_warehouse='DEMO_WH',\n",
        "    creation_mode=CreationMode.CREATE_IF_NOT_EXIST,\n",
        ")\n",
        "\n",
        "TICKER = Entity(name='TICKER', join_keys=['SYMBOL'])\n",
        "fs.register_entity(TICKER)\n",
        "\n",
        "fv = FeatureView(\n",
        "    name='price_features',\n",
        "    entities=[TICKER],\n",
        "    feature_df=session.table('PRICE_FEATURES'),\n",
        "    desc='Hourly price features (SMA, VOL, RSI proxy, returns)'\n",
        ")\n",
        "registered_fv = fs.register_feature_view(\n",
        "    feature_view=fv,\n",
        "    version='V1',\n",
        "    overwrite=True\n",
        ")\n",
        "\n",
        "fs.list_feature_views().show()\n"
      ]
    }
  ],
  "metadata": {
    "language_info": {
      "name": "python"
    }
  },
  "nbformat": 4,
  "nbformat_minor": 2
}
