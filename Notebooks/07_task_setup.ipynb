{
  "cells": [
    {
      "cell_type": "markdown",
      "metadata": {},
      "source": [
        "# SP500 Stock Demo — Notebook 07: Task + Notification Setup\n",
        "\n",
        "- Create TASK to run inference daily (do not start)\n",
        "- Optional: create email notification integration (commented)\n",
        "- Show task state\n"
      ]
    },
    {
      "cell_type": "code",
      "execution_count": null,
      "metadata": {},
      "outputs": [],
      "source": [
        "# 0) Session and context\n",
        "from snowflake.snowpark.context import get_active_session\n",
        "session = get_active_session()\n",
        "session.sql(\"USE WAREHOUSE DEMO_WH_M\").collect()\n",
        "session.sql(\"USE DATABASE SP500_STOCK_DEMO\").collect()\n",
        "session.sql(\"USE SCHEMA DATA\").collect()\n",
        "\n",
        "# Optional: Email notification integration (requires ACCOUNTADMIN)\n",
        "# session.sql(\"\"\"\n",
        "# CREATE NOTIFICATION INTEGRATION IF NOT EXISTS DEMO_EMAIL_INT\n",
        "#   TYPE = EMAIL\n",
        "#   ENABLED = TRUE\n",
        "#   ALLOWED_RECIPIENTS = ('your.name@example.com');\n",
        "# \"\"\").collect()\n"
      ]
    },
    {
      "cell_type": "code",
      "execution_count": null,
      "metadata": {},
      "outputs": [],
      "source": [
        "# 1) Create TASK (do not resume/start)\n",
        "session.sql(\"\"\"\n",
        "CREATE OR REPLACE TASK IF NOT EXISTS SP500_INFER_DRIFT_DAILY\n",
        "  WAREHOUSE = DEMO_WH_M\n",
        "  SCHEDULE = 'USING CRON 0 8 * * * America/Los_Angeles'\n",
        "AS\n",
        "  CALL SP500_INFER_DRIFT();\n",
        "\"\"\").collect()\n",
        "\n",
        "print('Task created. It is left in SUSPENDED state by default.')\n",
        "session.sql(\"SHOW TASKS LIKE 'SP500_INFER_DRIFT_DAILY'\").show()\n"
      ]
    }
  ],
  "metadata": {
    "language_info": {
      "name": "python"
    }
  },
  "nbformat": 4,
  "nbformat_minor": 2
}
